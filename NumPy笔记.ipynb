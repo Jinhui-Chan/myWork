{
 "cells": [
  {
   "cell_type": "markdown",
   "id": "92c9c2cc",
   "metadata": {},
   "source": [
    "# Python_NumPy"
   ]
  },
  {
   "cell_type": "markdown",
   "id": "9c5bb78f",
   "metadata": {},
   "source": [
    "## 1.基本数据类型"
   ]
  },
  {
   "cell_type": "markdown",
   "id": "c7935a3e",
   "metadata": {},
   "source": [
    "- 数字：整型和浮点型(int and float)"
   ]
  },
  {
   "cell_type": "code",
   "execution_count": 1,
   "id": "d626e54e",
   "metadata": {},
   "outputs": [
    {
     "name": "stdout",
     "output_type": "stream",
     "text": [
      "<class 'int'>\n",
      "3\n",
      "4\n",
      "2\n",
      "6\n",
      "9\n",
      "4\n",
      "8\n",
      "<class 'float'>\n",
      "2.5 3.5 5.0 6.25\n"
     ]
    }
   ],
   "source": [
    "x = 3\n",
    "print(type(x)) # Prints \"<class 'int'>\"\n",
    "print(x)       # Prints \"3\"\n",
    "print(x + 1)   # 加; prints \"4\"\n",
    "print(x - 1)   # 减; prints \"2\"\n",
    "print(x * 2)   # 乘; prints \"6\"\n",
    "print(x ** 2)  # 平方; prints \"9\"\n",
    "x += 1\n",
    "print(x)  # Prints \"4\"\n",
    "x *= 2\n",
    "print(x)  # Prints \"8\"\n",
    "y = 2.5\n",
    "print(type(y)) # Prints \"<class 'float'>\"\n",
    "print(y, y + 1, y * 2, y ** 2) # Prints \"2.5 3.5 5.0 6.25\""
   ]
  },
  {
   "cell_type": "markdown",
   "id": "e1e892b8",
   "metadata": {},
   "source": [
    "**注意：python没有自增和自减运算符 如c++，c--**"
   ]
  },
  {
   "cell_type": "markdown",
   "id": "048f3a93",
   "metadata": {},
   "source": [
    "- bool值"
   ]
  },
  {
   "cell_type": "code",
   "execution_count": 2,
   "id": "b7eb4ea0",
   "metadata": {},
   "outputs": [
    {
     "name": "stdout",
     "output_type": "stream",
     "text": [
      "<class 'bool'>\n",
      "False\n",
      "True\n",
      "False\n",
      "True\n"
     ]
    }
   ],
   "source": [
    "t = True\n",
    "f = False\n",
    "print(type(t)) # Prints \"<class 'bool'>\"\n",
    "print(t and f) # 两者同时满足 逻辑\"与\" ; prints \"False\"\n",
    "print(t or f)  # 两者满足其一 逻辑\"或\" ; prints \"True\"\n",
    "print(not t)   # 不满足t是否正确 逻辑\"非\" ; prints \"False\"\n",
    "print(t != f)  # 不等于 ; prints \"True\""
   ]
  },
  {
   "cell_type": "markdown",
   "id": "3daba1f6",
   "metadata": {},
   "source": [
    "**注：python 实现了布尔逻辑的所有常用运算符，但使用英语单词（and,or,not）而不是符号 如：&&，||等**"
   ]
  },
  {
   "cell_type": "markdown",
   "id": "3b01f256",
   "metadata": {},
   "source": [
    "- 字符串(string)"
   ]
  },
  {
   "cell_type": "code",
   "execution_count": 3,
   "id": "139b7784",
   "metadata": {},
   "outputs": [
    {
     "name": "stdout",
     "output_type": "stream",
     "text": [
      "hello\n",
      "5\n",
      "hello world\n",
      "hello world 12\n"
     ]
    }
   ],
   "source": [
    "hello = 'hello'    # 单引号引用\n",
    "world = \"world\"    # 双引号引用也可以 这无所谓\n",
    "print(hello)       # Prints \"hello\"\n",
    "print(len(hello))  # 字符串的长度 ; prints \"5\"\n",
    "hw = hello + ' ' + world  # 字符串相加\n",
    "print(hw)  # prints \"hello world\"\n",
    "hw12 = '%s %s %d' % (hello, world, 12)  # 字符串中的数据可以是不同类型的\n",
    "print(hw12)  # prints \"hello world 12\""
   ]
  },
  {
   "cell_type": "markdown",
   "id": "d5d5c268",
   "metadata": {},
   "source": [
    "**string对象有很多有用的方法 例如：**"
   ]
  },
  {
   "cell_type": "code",
   "execution_count": 4,
   "id": "6563890a",
   "metadata": {},
   "outputs": [
    {
     "name": "stdout",
     "output_type": "stream",
     "text": [
      "Hello\n",
      "HELLO\n",
      "  hello\n",
      " hello \n",
      "he(ell)(ell)o\n",
      "world\n"
     ]
    }
   ],
   "source": [
    "s = \"hello\"\n",
    "print(s.capitalize())  # 首字母大写输出 ; prints \"Hello\"\n",
    "print(s.upper())       # 大写所有字母 ; prints \"HELLO\"\n",
    "print(s.rjust(7))      # 右对齐 不足部分空格填充 总长度7 ; prints \"  hello\"\n",
    "print(s.center(7))     # 居中 不足部分空格填充 总长度7 ; prints \" hello \"\n",
    "print(s.replace('l', '(ell)'))  # 把指定字符串用后一个字符串代替;\n",
    "                                # prints \"he(ell)(ell)o\"\n",
    "print('  world '.strip())  # 去除首尾的空白字符 ; prints \"world\""
   ]
  },
  {
   "cell_type": "markdown",
   "id": "eb2a5f48",
   "metadata": {},
   "source": [
    "## 2.容器"
   ]
  },
  {
   "cell_type": "markdown",
   "id": "54329f4a",
   "metadata": {},
   "source": [
    "- 列表(list)：列表相当于 Python 的数组，但可以调整大小并且可以包含不同类型的元素"
   ]
  },
  {
   "cell_type": "code",
   "execution_count": 5,
   "id": "297e3b97",
   "metadata": {},
   "outputs": [
    {
     "name": "stdout",
     "output_type": "stream",
     "text": [
      "[3, 1, 2] 2\n",
      "2\n",
      "[3, 1, 'foo']\n",
      "[3, 1, 'foo', 'bar']\n",
      "bar [3, 1, 'foo']\n"
     ]
    }
   ],
   "source": [
    "xs = [3, 1, 2]    # 创建一个列表\n",
    "print(xs, xs[2])  # Prints \"[3, 1, 2] 2\"\n",
    "print(xs[-1])     # 负索引从列表末尾开始计数 末尾是-1 ; prints \"2\"\n",
    "xs[2] = 'foo'     # 列表可以包含不同类型的元素\n",
    "print(xs)         # Prints \"[3, 1, 'foo']\"\n",
    "xs.append('bar')  # 向列表末尾添加一个新元素\n",
    "print(xs)         # Prints \"[3, 1, 'foo', 'bar']\"\n",
    "x = xs.pop()      # 弹出并用'x'接收列表的最后一个元素\n",
    "print(x, xs)      # Prints \"bar [3, 1, 'foo']\""
   ]
  },
  {
   "cell_type": "code",
   "execution_count": 6,
   "id": "0fda7578",
   "metadata": {},
   "outputs": [
    {
     "name": "stdout",
     "output_type": "stream",
     "text": [
      "[0, 1, 2, 3, 4]\n",
      "[2, 3]\n",
      "[2, 3, 4]\n",
      "[0, 1]\n",
      "[0, 1, 2, 3, 4]\n",
      "[0, 1, 2, 3]\n",
      "[0, 1, 8, 9, 4]\n"
     ]
    }
   ],
   "source": [
    "nums = list(range(5))     # range 是一个内置函数，用于创建整数列表 不超过括号内的整数\n",
    "print(nums)               # Prints \"[0, 1, 2, 3, 4]\"\n",
    "print(nums[2:4])          # 获取从索引 2 到 4（不包含 4）的切片; prints \"[2, 3]\"\n",
    "print(nums[2:])           # 获取从索引 2 到 结尾 的切片; prints \"[2, 3, 4]\"\n",
    "print(nums[:2])           # 获取从开头到索引 2（不包含 2）的切片; prints \"[0, 1]\"\n",
    "print(nums[:])            # 获取整个列表 相当于 print(nums); prints \"[0, 1, 2, 3, 4]\"\n",
    "print(nums[:-1])          # 切片索引可以是负数（-1 表示最后一个元素） 这里不取最后一个数 ; prints \"[0, 1, 2, 3]\"\n",
    "nums[2:4] = [8, 9]        # 给切片赋值一个新的子列表\n",
    "print(nums)               # Prints \"[0, 1, 8, 9, 4]\""
   ]
  },
  {
   "cell_type": "markdown",
   "id": "cfed063a",
   "metadata": {},
   "source": [
    "**共性：切片的标志是 [ : ] 且在范围中取前不取后**"
   ]
  },
  {
   "cell_type": "code",
   "execution_count": 7,
   "id": "bbf0b625",
   "metadata": {},
   "outputs": [
    {
     "name": "stdout",
     "output_type": "stream",
     "text": [
      "cat\n",
      "dog\n",
      "monkey\n"
     ]
    }
   ],
   "source": [
    "animals = ['cat', 'dog', 'monkey']\n",
    "for animal in animals:\n",
    "    print(animal)\n",
    "# Prints \"cat\", \"dog\", \"monkey\", 每个元素单占一行"
   ]
  },
  {
   "cell_type": "markdown",
   "id": "c6006a80",
   "metadata": {},
   "source": [
    "**可使用enumerate()函数获取键值对元组(index, value)**"
   ]
  },
  {
   "cell_type": "code",
   "execution_count": 8,
   "id": "6e8c40a9",
   "metadata": {},
   "outputs": [
    {
     "name": "stdout",
     "output_type": "stream",
     "text": [
      "#1: cat\n",
      "#2: dog\n",
      "#3: monkey\n"
     ]
    }
   ],
   "source": [
    "animals = ['cat', 'dog', 'monkey']\n",
    "for idx, animal in enumerate(animals):\n",
    "    print('#%d: %s' % (idx + 1, animal))\n",
    "# Prints \"#1: cat\", \"#2: dog\", \"#3: monkey\", each on its own line"
   ]
  },
  {
   "cell_type": "markdown",
   "id": "564e7bfb",
   "metadata": {},
   "source": [
    "列表推导式："
   ]
  },
  {
   "cell_type": "code",
   "execution_count": 9,
   "id": "3357b21d",
   "metadata": {},
   "outputs": [
    {
     "name": "stdout",
     "output_type": "stream",
     "text": [
      "[0, 1, 4, 9, 16]\n"
     ]
    }
   ],
   "source": [
    "nums = [0, 1, 2, 3, 4]\n",
    "squares = [x ** 2 for x in nums]\n",
    "print(squares)   # Prints [0, 1, 4, 9, 16]"
   ]
  },
  {
   "cell_type": "markdown",
   "id": "e5a2536e",
   "metadata": {},
   "source": [
    "等同于："
   ]
  },
  {
   "cell_type": "code",
   "execution_count": 10,
   "id": "d76c94d0",
   "metadata": {},
   "outputs": [
    {
     "name": "stdout",
     "output_type": "stream",
     "text": [
      "[0, 1, 4, 9, 16]\n"
     ]
    }
   ],
   "source": [
    "nums = [0, 1, 2, 3, 4]\n",
    "squares = []\n",
    "for x in nums:\n",
    "    squares.append(x ** 2)\n",
    "print(squares)   # Prints [0, 1, 4, 9, 16]"
   ]
  },
  {
   "cell_type": "markdown",
   "id": "03a3504f",
   "metadata": {},
   "source": [
    "列表推导式也可以加条件："
   ]
  },
  {
   "cell_type": "code",
   "execution_count": 11,
   "id": "bb089cf6",
   "metadata": {},
   "outputs": [
    {
     "name": "stdout",
     "output_type": "stream",
     "text": [
      "[0, 4, 16]\n"
     ]
    }
   ],
   "source": [
    "nums = [0, 1, 2, 3, 4]\n",
    "even_squares = [x ** 2 for x in nums if x % 2 == 0]\n",
    "print(even_squares)  # Prints \"[0, 4, 16]\""
   ]
  },
  {
   "cell_type": "markdown",
   "id": "9f60c155",
   "metadata": {},
   "source": [
    "**注：与不可变的元组作区分，[]为可变，()为不可变**"
   ]
  },
  {
   "cell_type": "markdown",
   "id": "0e8915a2",
   "metadata": {},
   "source": [
    "- 字典(dict)"
   ]
  },
  {
   "cell_type": "code",
   "execution_count": 12,
   "id": "8a52a462",
   "metadata": {},
   "outputs": [
    {
     "name": "stdout",
     "output_type": "stream",
     "text": [
      "cute\n",
      "True\n",
      "wet\n",
      "N/A\n",
      "wet\n",
      "N/A\n"
     ]
    }
   ],
   "source": [
    "d = {'cat': 'cute', 'dog': 'furry'}  # 创建一个字典\n",
    "print(d['cat'])       # 由键得到值 ; prints \"cute\"\n",
    "print('cat' in d)     # 检查'cat' 是否在d中 ; prints \"True\"\n",
    "d['fish'] = 'wet'     # 增加（或更新）元素\n",
    "print(d['fish'])      # Prints \"wet\"\n",
    "# print(d['monkey'])  # KeyError: 'monkey' not a key of d\n",
    "print(d.get('monkey', 'N/A'))  # 获取指定键的值，若键不存在则返回默认值'N/A' ; prints \"N/A\"\n",
    "print(d.get('fish', 'N/A'))    # 获取指定键的值，若键不存在则返回默认值'N/A' ; prints \"wet\"\n",
    "del d['fish']         # 根据键删除dict中的元素\n",
    "print(d.get('fish', 'N/A')) # fish 不再是一个键 ; prints \"N/A\""
   ]
  },
  {
   "cell_type": "markdown",
   "id": "60384562",
   "metadata": {},
   "source": [
    "**key类型：必须是不可变类型（如 int、str、tuple 等），确保哈希稳定。**"
   ]
  },
  {
   "cell_type": "markdown",
   "id": "484c7bf2",
   "metadata": {},
   "source": [
    "**value类型：可以是任何类型（包括可变类型），完全灵活。**"
   ]
  },
  {
   "cell_type": "markdown",
   "id": "6b730787",
   "metadata": {},
   "source": [
    "循环输出字典中的元素："
   ]
  },
  {
   "cell_type": "code",
   "execution_count": 13,
   "id": "518ed8a1",
   "metadata": {},
   "outputs": [
    {
     "name": "stdout",
     "output_type": "stream",
     "text": [
      "A person has 2 legs\n",
      "A cat has 4 legs\n",
      "A spider has 8 legs\n"
     ]
    }
   ],
   "source": [
    "d = {'person': 2, 'cat': 4, 'spider': 8}\n",
    "for animal in d:\n",
    "    legs = d[animal]\n",
    "    print('A %s has %d legs' % (animal, legs))"
   ]
  },
  {
   "cell_type": "markdown",
   "id": "c2f0b4d0",
   "metadata": {},
   "source": [
    "item函数可以返回键和值："
   ]
  },
  {
   "cell_type": "code",
   "execution_count": 14,
   "id": "5a0db325",
   "metadata": {},
   "outputs": [
    {
     "name": "stdout",
     "output_type": "stream",
     "text": [
      "A person has 2 legs\n",
      "A cat has 4 legs\n",
      "A spider has 8 legs\n"
     ]
    }
   ],
   "source": [
    "d = {'person': 2, 'cat': 4, 'spider': 8}\n",
    "for animal, legs in d.items():\n",
    "    print('A %s has %d legs' % (animal, legs))\n",
    "# Prints \"A person has 2 legs\", \"A cat has 4 legs\", \"A spider has 8 legs\""
   ]
  },
  {
   "cell_type": "markdown",
   "id": "b6125271",
   "metadata": {},
   "source": [
    "\n",
    "字典推导式:"
   ]
  },
  {
   "cell_type": "code",
   "execution_count": 15,
   "id": "852bfa51",
   "metadata": {},
   "outputs": [
    {
     "name": "stdout",
     "output_type": "stream",
     "text": [
      "{0: 0, 2: 4, 4: 16}\n"
     ]
    }
   ],
   "source": [
    "nums = [0, 1, 2, 3, 4]\n",
    "even_num_to_square = {x: x ** 2 for x in nums if x % 2 == 0}\n",
    "print(even_num_to_square)  # Prints \"{0: 0, 2: 4, 4: 16}\""
   ]
  },
  {
   "cell_type": "markdown",
   "id": "bdfe768d",
   "metadata": {},
   "source": [
    "- 集合(set)"
   ]
  },
  {
   "cell_type": "markdown",
   "id": "18a6fb25",
   "metadata": {},
   "source": [
    "**无序且唯一**"
   ]
  },
  {
   "cell_type": "code",
   "execution_count": 16,
   "id": "1b2aea08",
   "metadata": {},
   "outputs": [
    {
     "name": "stdout",
     "output_type": "stream",
     "text": [
      "True\n",
      "False\n",
      "True\n",
      "3\n",
      "3\n",
      "2\n"
     ]
    }
   ],
   "source": [
    "animals = {'cat', 'dog'}\n",
    "print('cat' in animals)   # 检查元素是否在集合中 ; prints \"True\"\n",
    "print('fish' in animals)  # prints \"False\"\n",
    "animals.add('fish')       # 向集合中添加元素\n",
    "print('fish' in animals)  # Prints \"True\"\n",
    "print(len(animals))       # 输出集合的长度 ; prints \"3\"\n",
    "animals.add('cat')        # 向集合添加一个已有的元素\n",
    "print(len(animals))       # Prints \"3\"\n",
    "animals.remove('cat')     # 删除集合中的元素\n",
    "print(len(animals))       # Prints \"2\""
   ]
  },
  {
   "cell_type": "markdown",
   "id": "956a0bc3",
   "metadata": {},
   "source": [
    "**循环：集合与列表具有相同的语法 ; 但是，集合是无序的，无法按照指定顺序访问**"
   ]
  },
  {
   "cell_type": "code",
   "execution_count": 17,
   "id": "dd0aa207",
   "metadata": {},
   "outputs": [
    {
     "name": "stdout",
     "output_type": "stream",
     "text": [
      "#1: dog\n",
      "#2: cat\n",
      "#3: fish\n"
     ]
    }
   ],
   "source": [
    "animals = {'cat', 'dog', 'fish'}\n",
    "for idx, animal in enumerate(animals):\n",
    "    print('#%d: %s' % (idx + 1, animal))\n",
    "# Prints \"#1: fish\", \"#2: dog\", \"#3: cat\""
   ]
  },
  {
   "cell_type": "markdown",
   "id": "8ccf7fea",
   "metadata": {},
   "source": [
    "集合推导式："
   ]
  },
  {
   "cell_type": "code",
   "execution_count": 18,
   "id": "594591f7",
   "metadata": {},
   "outputs": [
    {
     "name": "stdout",
     "output_type": "stream",
     "text": [
      "{0, 1, 2, 3, 4, 5}\n"
     ]
    }
   ],
   "source": [
    "from math import sqrt\n",
    "nums = {int(sqrt(x)) for x in range(30)}\n",
    "print(nums)  # Prints \"{0, 1, 2, 3, 4, 5}\""
   ]
  },
  {
   "cell_type": "markdown",
   "id": "4875eb01",
   "metadata": {},
   "source": [
    "- 元组(tuple)"
   ]
  },
  {
   "cell_type": "markdown",
   "id": "6f653f35",
   "metadata": {},
   "source": [
    "**和列表类似 但元组不可变 元组可以用作字典中的键和集合的元素，而列表不能**"
   ]
  },
  {
   "cell_type": "code",
   "execution_count": 19,
   "id": "8e6482ee",
   "metadata": {},
   "outputs": [
    {
     "name": "stdout",
     "output_type": "stream",
     "text": [
      "<class 'tuple'>\n",
      "5\n",
      "1\n"
     ]
    }
   ],
   "source": [
    "d = {(x, x + 1): x for x in range(10)}  # Create a dictionary with tuple keys\n",
    "t = (5, 6)        # Create a tuple\n",
    "print(type(t))    # Prints \"<class 'tuple'>\"\n",
    "print(d[t])       # Prints \"5\"\n",
    "print(d[(1, 2)])  # Prints \"1\""
   ]
  },
  {
   "cell_type": "markdown",
   "id": "5c2d4b11",
   "metadata": {},
   "source": [
    "### 容器特性总结"
   ]
  },
  {
   "cell_type": "markdown",
   "id": "47916510",
   "metadata": {},
   "source": [
    "| 特性               | 列表（list）               | 元组（tuple）               | 集合（set）                 |\n",
    "|--------------------|---------------------------|---------------------------|---------------------------|\n",
    "| **定义方式**       | 用方括号 `[]`             | 用圆括号 `()`（可省略）     | 用花括号 `{}` 或 `set()`   |\n",
    "| **可变性**         | 可变（可增删改元素）       | 不可变（创建后不能修改）     | 可变（可增删元素）         |\n",
    "| **有序性**         | 有序（元素有固定位置）     | 有序（元素有固定位置）       | 无序（元素无固定位置）     |\n",
    "| **元素唯一性**     | 允许重复元素               | 允许重复元素               | 不允许重复元素（自动去重） |\n",
    "| **索引/切片**      | 支持（因有序）             | 支持（因有序）              | 不支持（因无序）           |\n",
    "| **常用场景**       | 需动态修改的序列（如日志） | 固定数据（如坐标、配置项）   | 去重、集合运算（交/并/差） |"
   ]
  },
  {
   "cell_type": "markdown",
   "id": "87192a1b",
   "metadata": {},
   "source": [
    "## 3.类"
   ]
  },
  {
   "cell_type": "code",
   "execution_count": 20,
   "id": "029daba1",
   "metadata": {},
   "outputs": [
    {
     "name": "stdout",
     "output_type": "stream",
     "text": [
      "Hello, Fred\n",
      "HELLO, FRED!\n"
     ]
    }
   ],
   "source": [
    "class Greeter(object):     # 定义一个 Greeter 类，继承自 object（Python 中所有类的基类）   \n",
    "\n",
    "    # 初始化方法\n",
    "    def __init__(self, name):\n",
    "        self.name = name  # Create an instance variable\n",
    "\n",
    "    # 实例方法\n",
    "    def greet(self, loud=False):\n",
    "        if loud:\n",
    "            print('HELLO, %s!' % self.name.upper())\n",
    "        else:\n",
    "            print('Hello, %s' % self.name)\n",
    "\n",
    "g = Greeter('Fred')  # 创建 Greeter 类的一个实例（对象），传入参数 'Fred'\n",
    "g.greet()            # 调用实例方法 greet() ; prints \"Hello, Fred\"\n",
    "g.greet(loud=True)   # 调用实例方法 greet() ; prints \"HELLO, FRED!\""
   ]
  },
  {
   "cell_type": "markdown",
   "id": "f26b8d23",
   "metadata": {},
   "source": [
    "和c++一样，类也有封装，继承，多态三大特性"
   ]
  },
  {
   "cell_type": "markdown",
   "id": "56010bc6",
   "metadata": {},
   "source": [
    "## 4.Numpy "
   ]
  },
  {
   "cell_type": "markdown",
   "id": "9ef0b402",
   "metadata": {},
   "source": [
    "### 4.1 简介"
   ]
  },
  {
   "cell_type": "markdown",
   "id": "a8831206",
   "metadata": {},
   "source": [
    "NumPy（Numerical Python 的缩写）是 Python 中用于科学计算的核心库，主要用于处理大型多维数组（矩阵）和执行高效的数值运算。它是数据分析、机器学习、深度学习、科学计算等领域的基础工具，许多高级库（如 Pandas、Matplotlib、TensorFlow 等）都依赖于 NumPy 的底层功能。"
   ]
  },
  {
   "cell_type": "markdown",
   "id": "53e07a97",
   "metadata": {},
   "source": [
    "### 4.2 矩阵"
   ]
  },
  {
   "cell_type": "markdown",
   "id": "c73ee7cc",
   "metadata": {},
   "source": [
    "numpy 数组是一个值网格，所有值都具有相同的类型，并由非负整数的元组索引。维数是数组的等级;数组的形状是一个整数元组，给出了数组沿每个维度的大小。\n",
    "numpy效率高的原因是用c语言写的，可以结合c中（二维）数组更好理解。\n",
    "\n",
    "我们可以从嵌套的 Python 列表中初始化 numpy 数组，并使用方括号访问元素："
   ]
  },
  {
   "cell_type": "code",
   "execution_count": 21,
   "id": "cb768bc9",
   "metadata": {},
   "outputs": [
    {
     "name": "stdout",
     "output_type": "stream",
     "text": [
      "<class 'numpy.ndarray'>\n",
      "(3,)\n",
      "1 2 3\n",
      "[5 2 3]\n",
      "(2, 3)\n",
      "1 2 4\n"
     ]
    }
   ],
   "source": [
    "import numpy as np\n",
    "\n",
    "a = np.array([1, 2, 3])   # 创建一个一维数组（秩为1的数组）,可以传入列表元组\n",
    "print(type(a))            # 输出a的类型 ; Prints \"<class 'numpy.ndarray'>\"\n",
    "print(a.shape)            # shape 是数组的属性，返回一个元组，表示有几行几列（逗号表示这是一个元组，而非普通括号）\n",
    "print(a[0], a[1], a[2])   # Prints \"1 2 3\"\n",
    "a[0] = 5                  # 修改数组的元素\n",
    "print(a)                  # Prints \"[5, 2, 3]\"\n",
    "\n",
    "b = np.array([[1,2,3],[4,5,6]])    # 创建一个二维数组\n",
    "print(b.shape)                     # Prints \"(2, 3)\"\n",
    "print(b[0, 0], b[0, 1], b[1, 0])   # Prints \"1 2 4\""
   ]
  },
  {
   "cell_type": "markdown",
   "id": "d48c218e",
   "metadata": {},
   "source": [
    "其他创建数组方法："
   ]
  },
  {
   "cell_type": "code",
   "execution_count": 22,
   "id": "1ad871ab",
   "metadata": {},
   "outputs": [
    {
     "name": "stdout",
     "output_type": "stream",
     "text": [
      "[[0. 0.]\n",
      " [0. 0.]]\n",
      "[[1. 1.]]\n",
      "[[7 7]\n",
      " [7 7]]\n",
      "[[1. 0.]\n",
      " [0. 1.]]\n",
      "[[0.05329233 0.50550716]\n",
      " [0.45988266 0.38721269]]\n"
     ]
    }
   ],
   "source": [
    "import numpy as np\n",
    "\n",
    "a = np.zeros((2,2))   # 创建一个 2x2 的全零数组\n",
    "print(a)              # Prints \"[[ 0.  0.]\n",
    "                      #          [ 0.  0.]]\"\n",
    "\n",
    "b = np.ones((1,2))    # 创建一个 1x2 的全一数组\n",
    "print(b)              # Prints \"[[ 1.  1.]]\"\n",
    "\n",
    "c = np.full((2,2), 7)  # 创建一个 2x2 的常量数组，元素全为 7\n",
    "print(c)               # Prints \"[[ 7.  7.]\n",
    "                       #          [ 7.  7.]]\"\n",
    "\n",
    "d = np.eye(2)         # 创建一个 2x2 的单位矩阵\n",
    "print(d)              # Prints \"[[ 1.  0.]\n",
    "                      #          [ 0.  1.]]\"\n",
    "\n",
    "e = np.random.random((2,2))  # 创建一个 2x2 的数组，元素为 [0,1) 之间的随机浮点数 相当于：np.random.rand(2,2)\n",
    "print(e)                     # 可能输出 \"[[ 0.91940167  0.08143941]\n",
    "                             #               [ 0.68744134  0.87236687]]\""
   ]
  },
  {
   "cell_type": "markdown",
   "id": "d5877559",
   "metadata": {},
   "source": [
    "数组索引："
   ]
  },
  {
   "cell_type": "markdown",
   "id": "f94a1ab2",
   "metadata": {},
   "source": [
    "Numpy 提供了多种索引数组的方法。\n",
    "\n",
    "切片：与 Python 列表类似，可以对 numpy 数组进行切片。由于数组可能是多维的，因此数组的每个维度都要指定一个切片操作："
   ]
  },
  {
   "cell_type": "code",
   "execution_count": 23,
   "id": "4bdc8129",
   "metadata": {},
   "outputs": [
    {
     "name": "stdout",
     "output_type": "stream",
     "text": [
      "2\n",
      "77\n"
     ]
    }
   ],
   "source": [
    "import numpy as np\n",
    "\n",
    "# 3行4列的二维数组 \n",
    "#  [ 1  2  3  4]\n",
    "#  [ 5  6  7  8]\n",
    "#  [ 9  10 11 12]\n",
    "a = np.array([[1,2,3,4], [5,6,7,8], [9,10,11,12]])\n",
    "\n",
    "# 用切片操作提取出由前 2 行以及第 1 列和第 2 列组成的子数组；其中 b 是下方这个形状为 (2, 2) 的数组 ','前为行的切片，','后为列的切片\n",
    "# [[2 3]\n",
    "#  [6 7]]\n",
    "b = a[:2, 1:3]\n",
    "\n",
    "# 数组的切片会改变原始数组\n",
    "print(a[0, 1])   # Prints \"2\"\n",
    "b[0, 0] = 77     # b[0, 0] 与 a[0, 1] 指向同一块数据\n",
    "print(a[0, 1])   # Prints \"77\""
   ]
  },
  {
   "cell_type": "markdown",
   "id": "7753b72c",
   "metadata": {},
   "source": [
    "索引与切片索引混合使用："
   ]
  },
  {
   "cell_type": "code",
   "execution_count": 24,
   "id": "db443203",
   "metadata": {},
   "outputs": [
    {
     "name": "stdout",
     "output_type": "stream",
     "text": [
      "[5 6 7 8] (4,)\n",
      "[[5 6 7 8]] (1, 4)\n",
      "[ 2  6 10] (3,)\n",
      "[[ 2]\n",
      " [ 6]\n",
      " [10]] (3, 1)\n"
     ]
    }
   ],
   "source": [
    "import numpy as np\n",
    "\n",
    "# 初始化一个三行四列的二维数组\n",
    "# [[ 1  2  3  4]\n",
    "#  [ 5  6  7  8]\n",
    "#  [ 9 10 11 12]]\n",
    "a = np.array([[1,2,3,4], [5,6,7,8], [9,10,11,12]])\n",
    "\n",
    "# 两种获取数组中间行数据的方式。\n",
    "# 整数索引与切片混合使用会得到一个低维度的数组，\n",
    "# 而仅使用切片会得到与原数组维度相同的数组：\n",
    "row_r1 = a[1, :]    # 取数组的第一行，变为一维数组\n",
    "row_r2 = a[1:2, :]  # 取数组的第二行（注意两者的shape）\n",
    "print(row_r1, row_r1.shape)  # Prints \"[5 6 7 8] (4,)\"\n",
    "print(row_r2, row_r2.shape)  # Prints \"[[5 6 7 8]] (1, 4)\"\n",
    "\n",
    "# 获取数组列时也有同样的区别\n",
    "col_r1 = a[:, 1]\n",
    "col_r2 = a[:, 1:2]\n",
    "print(col_r1, col_r1.shape)  # Prints \"[ 2  6 10] (3,)\"\n",
    "print(col_r2, col_r2.shape)  # Prints \"[[ 2]\n",
    "                             #          [ 6]\n",
    "                             #          [10]] (3, 1)\""
   ]
  },
  {
   "cell_type": "markdown",
   "id": "fc681fb3",
   "metadata": {},
   "source": [
    "**注：索引和切片混合使用会降维度，若想达到相同效果可以两次切片（即用切片代替索引）**"
   ]
  },
  {
   "cell_type": "markdown",
   "id": "05445002",
   "metadata": {},
   "source": [
    "整数数组索引："
   ]
  },
  {
   "cell_type": "code",
   "execution_count": 25,
   "id": "225378c1",
   "metadata": {},
   "outputs": [
    {
     "name": "stdout",
     "output_type": "stream",
     "text": [
      "[1 4 5]\n",
      "[1 4 5]\n",
      "[2 2]\n",
      "[2 2]\n"
     ]
    }
   ],
   "source": [
    "import numpy as np\n",
    "\n",
    "a = np.array([[1,2], [3, 4], [5, 6]])\n",
    "\n",
    "# 整数数组索引的示例。\n",
    "# 返回的数组形状为 (3,)，并且\n",
    "print(a[[0, 1, 2], [0, 1, 0]])  # Prints \"[1 4 5]\"\n",
    "\n",
    "# 上面的整数数组索引示例等价于：\n",
    "print(np.array([a[0, 0], a[1, 1], a[2, 0]]))  # Prints \"[1 4 5]\"\n",
    "\n",
    "# 使用整数数组索引时，可以重复使用源数组中的同一个元素：\n",
    "print(a[[0, 0], [1, 1]])  # Prints \"[2 2]\"\n",
    "\n",
    "# 与前一个整数数组索引示例等价\n",
    "print(np.array([a[0, 1], a[0, 1]]))  # Prints \"[2 2]\""
   ]
  },
  {
   "cell_type": "markdown",
   "id": "50b84bc7",
   "metadata": {},
   "source": [
    "**注意[]的位置**"
   ]
  },
  {
   "cell_type": "markdown",
   "id": "27e4ba84",
   "metadata": {},
   "source": [
    "整数数组索引的一个有用技巧是从矩阵的每一行中选择或更改一个元素："
   ]
  },
  {
   "cell_type": "code",
   "execution_count": 26,
   "id": "e7d96e68",
   "metadata": {},
   "outputs": [
    {
     "name": "stdout",
     "output_type": "stream",
     "text": [
      "[[ 1  2  3]\n",
      " [ 4  5  6]\n",
      " [ 7  8  9]\n",
      " [10 11 12]]\n",
      "[ 1  6  7 11]\n",
      "[[11  2  3]\n",
      " [ 4  5 16]\n",
      " [17  8  9]\n",
      " [10 21 12]]\n"
     ]
    }
   ],
   "source": [
    "import numpy as np\n",
    "\n",
    "a = np.array([[1,2,3], [4,5,6], [7,8,9], [10, 11, 12]])\n",
    "\n",
    "print(a)  # prints \"array([[ 1,  2,  3],\n",
    "          #                [ 4,  5,  6],\n",
    "          #                [ 7,  8,  9],\n",
    "          #                [10, 11, 12]])\"\n",
    "\n",
    "\n",
    "b = np.array([0, 2, 0, 1])\n",
    "\n",
    "# 利用数组 b 中的索引，从数组 a 的每一行选取一个元素\n",
    "print(a[np.arange(4), b])  # Prints \"[ 1  6  7 11]\"\n",
    "\n",
    "# 利用数组 b 中的索引，修改数组 a 每一行的一个元素\n",
    "a[np.arange(4), b] += 10\n",
    "\n",
    "print(a)  # prints \"array([[11,  2,  3],\n",
    "          #                [ 4,  5, 16],\n",
    "          #                [17,  8,  9],\n",
    "          #                [10, 21, 12]])"
   ]
  },
  {
   "cell_type": "markdown",
   "id": "010fd4b4",
   "metadata": {},
   "source": [
    "数据类型："
   ]
  },
  {
   "cell_type": "markdown",
   "id": "1629360b",
   "metadata": {},
   "source": [
    "每个 numpy 数组都是相同类型元素的网格。Numpy 提供了大量可用于构造数组的数字数据类型。Numpy 在创建数组时会尝试猜测数据类型，但构造数组的函数通常还包含一个可选参数来指定数据类型。这是一个例子："
   ]
  },
  {
   "cell_type": "code",
   "execution_count": 27,
   "id": "67d1b216",
   "metadata": {},
   "outputs": [
    {
     "name": "stdout",
     "output_type": "stream",
     "text": [
      "int64\n",
      "float64\n",
      "int64\n"
     ]
    }
   ],
   "source": [
    "import numpy as np\n",
    "\n",
    "x = np.array([1, 2])   # 猜测数据类型\n",
    "print(x.dtype)         # Prints \"int64\"\n",
    "\n",
    "x = np.array([1.0, 2.0])   # 猜测数据类型\n",
    "print(x.dtype)             # Prints \"float64\"\n",
    "\n",
    "x = np.array([1, 2], dtype=np.int64)   # 指定数据类型（注意格式）\n",
    "print(x.dtype)                         # Prints \"int64\""
   ]
  },
  {
   "cell_type": "markdown",
   "id": "c98b9ee4",
   "metadata": {},
   "source": [
    "## 4.3 运算"
   ]
  },
  {
   "cell_type": "code",
   "execution_count": 28,
   "id": "c82e2e14",
   "metadata": {},
   "outputs": [
    {
     "name": "stdout",
     "output_type": "stream",
     "text": [
      "[[ 6.  8.]\n",
      " [10. 12.]]\n",
      "[[ 6.  8.]\n",
      " [10. 12.]]\n",
      "[[-4. -4.]\n",
      " [-4. -4.]]\n",
      "[[-4. -4.]\n",
      " [-4. -4.]]\n",
      "[[ 5. 12.]\n",
      " [21. 32.]]\n",
      "[[ 5. 12.]\n",
      " [21. 32.]]\n",
      "[[0.2        0.33333333]\n",
      " [0.42857143 0.5       ]]\n",
      "[[0.2        0.33333333]\n",
      " [0.42857143 0.5       ]]\n",
      "[[1.         1.41421356]\n",
      " [1.73205081 2.        ]]\n"
     ]
    }
   ],
   "source": [
    "import numpy as np\n",
    "\n",
    "x = np.array([[1,2],[3,4]], dtype=np.float64)\n",
    "y = np.array([[5,6],[7,8]], dtype=np.float64)\n",
    "\n",
    "# 加\n",
    "# [[ 6.0  8.0]\n",
    "#  [10.0 12.0]]\n",
    "print(x + y)\n",
    "print(np.add(x, y))\n",
    "\n",
    "# 减\n",
    "# [[-4.0 -4.0]\n",
    "#  [-4.0 -4.0]]\n",
    "print(x - y)\n",
    "print(np.subtract(x, y))\n",
    "\n",
    "# 乘\n",
    "# [[ 5.0 12.0]\n",
    "#  [21.0 32.0]]\n",
    "print(x * y)\n",
    "print(np.multiply(x, y))\n",
    "\n",
    "# 除\n",
    "# [[ 0.2         0.33333333]\n",
    "#  [ 0.42857143  0.5       ]]\n",
    "print(x / y)\n",
    "print(np.divide(x, y))\n",
    "\n",
    "# 开方\n",
    "# [[ 1.          1.41421356]\n",
    "#  [ 1.73205081  2.        ]]\n",
    "print(np.sqrt(x))"
   ]
  },
  {
   "cell_type": "code",
   "execution_count": 29,
   "id": "79e786e8",
   "metadata": {},
   "outputs": [
    {
     "name": "stdout",
     "output_type": "stream",
     "text": [
      "219\n",
      "219\n",
      "[29 67]\n",
      "[29 67]\n",
      "[[19 22]\n",
      " [43 50]]\n",
      "[[19 22]\n",
      " [43 50]]\n"
     ]
    }
   ],
   "source": [
    "import numpy as np\n",
    "\n",
    "x = np.array([[1,2],[3,4]])\n",
    "y = np.array([[5,6],[7,8]])\n",
    "\n",
    "v = np.array([9,10])\n",
    "w = np.array([11, 12])\n",
    "\n",
    "# 向量的内积；两者都输出 219\n",
    "print(v.dot(w))\n",
    "print(np.dot(v, w))\n",
    "\n",
    "# 矩阵与向量的乘积；两者都输出一维数组 [29 67]\n",
    "print(x.dot(v))\n",
    "print(np.dot(x, v))\n",
    "\n",
    "# 矩阵与矩阵的乘积；两者都输出二维数组\n",
    "# [[19 22]\n",
    "#  [43 50]]\n",
    "print(x.dot(y))\n",
    "print(np.dot(x, y))"
   ]
  },
  {
   "cell_type": "markdown",
   "id": "07b01857",
   "metadata": {},
   "source": [
    "**注:np.dot()参数顺序非常重要**"
   ]
  },
  {
   "cell_type": "code",
   "execution_count": 30,
   "id": "bf1c7e4b",
   "metadata": {},
   "outputs": [
    {
     "name": "stdout",
     "output_type": "stream",
     "text": [
      "10\n",
      "[4 6]\n",
      "[3 7]\n"
     ]
    }
   ],
   "source": [
    "import numpy as np\n",
    "\n",
    "x = np.array([[1,2],[3,4]])\n",
    "\n",
    "print(np.sum(x))  # 计算所有元素的总和；输出 \"10\"\n",
    "print(np.sum(x, axis=0))  # 计算每一列的总和；Print \"[4 6]\"   axis意思为轴线\n",
    "print(np.sum(x, axis=1))  # 计算每一行的总和；Print \"[3 7]\""
   ]
  },
  {
   "cell_type": "code",
   "execution_count": 31,
   "id": "70df22a2",
   "metadata": {},
   "outputs": [
    {
     "name": "stdout",
     "output_type": "stream",
     "text": [
      "[[1 2]\n",
      " [3 4]]\n",
      "[[1 3]\n",
      " [2 4]]\n",
      "[1 2 3]\n",
      "[1 2 3]\n"
     ]
    }
   ],
   "source": [
    "import numpy as np\n",
    "# 求转置\n",
    "x = np.array([[1,2], [3,4]])\n",
    "print(x)    # 输出 \"[[1 2]\n",
    "            #          [3 4]]\"\n",
    "print(x.T)  # 输出 \"[[1 3]\n",
    "            #          [2 4]]\"\n",
    "\n",
    "# 注意：对一维数组求转置不会产生任何变化\n",
    "v = np.array([1,2,3])\n",
    "print(v)    # 输出 \"[1 2 3]\"\n",
    "print(v.T)  # 输出 \"[1 2 3]\""
   ]
  },
  {
   "cell_type": "markdown",
   "id": "2865a1bb",
   "metadata": {},
   "source": [
    "广播(Broadcasting)："
   ]
  },
  {
   "cell_type": "markdown",
   "id": "abcde277",
   "metadata": {},
   "source": [
    "在 NumPy 中，广播（Broadcasting） 是一种自动处理不同形状数组之间算术运算的机制。它的核心思想是：当两个数组形状不同时，NumPy 会尝试通过扩展其中一个或两个数组的维度（虚拟地增加尺寸，不实际复制数据），使它们的形状兼容，从而进行 element-wise（元素级）运算。"
   ]
  },
  {
   "cell_type": "markdown",
   "id": "a5ab63be",
   "metadata": {},
   "source": [
    "方法一：(循环)"
   ]
  },
  {
   "cell_type": "code",
   "execution_count": 32,
   "id": "94c9e668",
   "metadata": {},
   "outputs": [
    {
     "name": "stdout",
     "output_type": "stream",
     "text": [
      "[[ 2  2  4]\n",
      " [ 5  5  7]\n",
      " [ 8  8 10]\n",
      " [11 11 13]]\n"
     ]
    }
   ],
   "source": [
    "import numpy as np\n",
    "\n",
    "# 我们会将向量 v 加到矩阵 x 的每一行上，\n",
    "# 并将结果存储在矩阵 y 中\n",
    "x = np.array([[1,2,3], [4,5,6], [7,8,9], [10, 11, 12]])\n",
    "v = np.array([1, 0, 1])\n",
    "y = np.empty_like(x)   # 创建一个与 x 形状相同的空矩阵\n",
    "\n",
    "# 通过显式循环，将向量 v 加到矩阵 x 的每一行\n",
    "for i in range(4):\n",
    "    y[i, :] = x[i, :] + v\n",
    "\n",
    "# 此时 y 的结果如下\n",
    "# [[ 2  2  4]\n",
    "#  [ 5  5  7]\n",
    "#  [ 8  8 10]\n",
    "#  [11 11 13]]\n",
    "print(y)"
   ]
  },
  {
   "cell_type": "markdown",
   "id": "9d1d7125",
   "metadata": {},
   "source": [
    "方法二：(副本)"
   ]
  },
  {
   "cell_type": "code",
   "execution_count": 33,
   "id": "ad0a8f13",
   "metadata": {},
   "outputs": [
    {
     "name": "stdout",
     "output_type": "stream",
     "text": [
      "[[1 0 1]\n",
      " [1 0 1]\n",
      " [1 0 1]\n",
      " [1 0 1]]\n",
      "[[ 2  2  4]\n",
      " [ 5  5  7]\n",
      " [ 8  8 10]\n",
      " [11 11 13]]\n"
     ]
    }
   ],
   "source": [
    "import numpy as np\n",
    "\n",
    "# 我们会将向量 v 加到矩阵 x 的每一行上，\n",
    "# 并将结果存储在矩阵 y 中\n",
    "x = np.array([[1,2,3], [4,5,6], [7,8,9], [10, 11, 12]])\n",
    "v = np.array([1, 0, 1])\n",
    "vv = np.tile(v, (4, 1))   # 将 v 堆叠 4 份（按行复制 4 次）\n",
    "print(vv)                 # Print \"[[1 0 1]\n",
    "                          #          [1 0 1]\n",
    "                          #          [1 0 1]\n",
    "                          #          [1 0 1]]\"\n",
    "y = x + vv  # 对 x 和 vv 进行元素级加法\n",
    "print(y)  # Print \"[[ 2  2  4]\n",
    "          #          [ 5  5  7]\n",
    "          #          [ 8  8 10]\n",
    "          #          [11 11 13]]\""
   ]
  },
  {
   "cell_type": "markdown",
   "id": "18f81a6c",
   "metadata": {},
   "source": [
    "方法三：(broadcasting)"
   ]
  },
  {
   "cell_type": "code",
   "execution_count": 34,
   "id": "b8e2ef59",
   "metadata": {},
   "outputs": [
    {
     "name": "stdout",
     "output_type": "stream",
     "text": [
      "[[ 2  2  4]\n",
      " [ 5  5  7]\n",
      " [ 8  8 10]\n",
      " [11 11 13]]\n"
     ]
    }
   ],
   "source": [
    "import numpy as np\n",
    "\n",
    "# 我们会将向量 v 加到矩阵 x 的每一行上，\n",
    "# 并将结果存储在矩阵 y 中\n",
    "x = np.array([[1,2,3], [4,5,6], [7,8,9], [10, 11, 12]])\n",
    "v = np.array([1, 0, 1])\n",
    "y = x + v  # 利用广播机制将 v 加到 x 的每一行\n",
    "print(y)  # 输出 \"[[ 2  2  4]\n",
    "          #          [ 5  5  7]\n",
    "          #          [ 8  8 10]\n",
    "          #          [11 11 13]]\""
   ]
  },
  {
   "cell_type": "markdown",
   "id": "3ab1c1bb",
   "metadata": {},
   "source": [
    "方法三相当于方法二，但在写法上更简单"
   ]
  },
  {
   "cell_type": "markdown",
   "id": "b0f2655f",
   "metadata": {},
   "source": [
    "广播的一些应用："
   ]
  },
  {
   "cell_type": "code",
   "execution_count": 35,
   "id": "90936b37",
   "metadata": {},
   "outputs": [
    {
     "name": "stdout",
     "output_type": "stream",
     "text": [
      "[[ 4  5]\n",
      " [ 8 10]\n",
      " [12 15]]\n",
      "[[2 4 6]\n",
      " [5 7 9]]\n",
      "[[ 5  6  7]\n",
      " [ 9 10 11]]\n",
      "[[ 5  6  7]\n",
      " [ 9 10 11]]\n",
      "[[ 2  4  6]\n",
      " [ 8 10 12]]\n"
     ]
    }
   ],
   "source": [
    "import numpy as np\n",
    "\n",
    "# 计算向量的外积\n",
    "v = np.array([1,2,3])  # v 的形状为 (3,)\n",
    "w = np.array([4,5])    # w 的形状为 (2,)\n",
    "# 要计算外积，首先将 v 重塑为形状为 (3, 1) 的列向量；\n",
    "# 然后可以将其与 w 进行广播，得到形状为 (3, 2) 的输出，即 v 和 w 的外积：\n",
    "# [[ 4  5]\n",
    "#  [ 8 10]\n",
    "#  [12 15]]\n",
    "print(np.reshape(v, (3, 1)) * w)\n",
    "\n",
    "# 向矩阵的每一行添加一个向量\n",
    "x = np.array([[1,2,3], [4,5,6]])\n",
    "# x 的形状为 (2, 3)，v 的形状为 (3,)，因此它们可以广播为 (2, 3)，\n",
    "# 得到以下矩阵：\n",
    "# [[2 4 6]\n",
    "#  [5 7 9]]\n",
    "print(x + v)\n",
    "\n",
    "# 向矩阵的每一列添加一个向量\n",
    "# x 的形状为 (2, 3)，w 的形状为 (2,)。\n",
    "# 如果转置 x，其形状变为 (3, 2)，可以与 w 广播得到形状为 (3, 2) 的结果；\n",
    "# 再转置该结果，得到形状为 (2, 3) 的最终结果，即每一列都添加了向量 w 的矩阵 x。\n",
    "# 得到以下矩阵：\n",
    "# [[ 5  6  7]\n",
    "#  [ 9 10 11]]\n",
    "print((x.T + w).T)\n",
    "# 另一种解决方案是将 w 重塑为形状为 (2, 1) 的列向量；\n",
    "# 然后可以直接将其与 x 广播，产生相同的输出。\n",
    "print(x + np.reshape(w, (2, 1)))\n",
    "\n",
    "# 矩阵与常数相乘：\n",
    "# x 的形状为 (2, 3)。NumPy 将标量视为形状为 () 的数组；\n",
    "# 它们可以一起广播为 (2, 3) 的形状，产生以下数组：\n",
    "# [[ 2  4  6]\n",
    "#  [ 8 10 12]]\n",
    "print(x * 2)"
   ]
  },
  {
   "cell_type": "markdown",
   "id": "8f19253a",
   "metadata": {},
   "source": [
    "两个三维向量外积："
   ]
  },
  {
   "cell_type": "code",
   "execution_count": 36,
   "id": "a50898be",
   "metadata": {},
   "outputs": [
    {
     "name": "stdout",
     "output_type": "stream",
     "text": [
      "a × b = [-3  6 -3]\n"
     ]
    }
   ],
   "source": [
    "import numpy as np\n",
    "\n",
    "# 定义两个三维向量\n",
    "a = np.array([1, 2, 3])  # 向量 a = (1, 2, 3)\n",
    "b = np.array([4, 5, 6])  # 向量 b = (4, 5, 6)\n",
    "\n",
    "# 计算叉乘\n",
    "c = np.cross(a, b)\n",
    "\n",
    "print(\"a × b =\", c)  # 输出：[ -3   6  -3 ]"
   ]
  },
  {
   "cell_type": "markdown",
   "id": "e3be5c77",
   "metadata": {},
   "source": [
    "广播通常会使代码更简洁、更快速，因此应尽可能使用它。"
   ]
  },
  {
   "cell_type": "markdown",
   "id": "472fda91",
   "metadata": {},
   "source": [
    "### 数组总结（from:豆包）"
   ]
  },
  {
   "cell_type": "markdown",
   "id": "8239327d",
   "metadata": {},
   "source": [
    "NumPy 是 Python 中用于科学计算的核心库，提供了高效的多维数组对象和大量用于数组操作的函数。以下是一些常用函数的分类整理：\n",
    "\n",
    "\n",
    "### **一、数组创建函数**\n",
    "1. **`numpy.array()`**  \n",
    "   从列表或元组创建数组：  \n",
    "   ```python\n",
    "   import numpy as np\n",
    "   arr = np.array([1, 2, 3])  # 一维数组\n",
    "   arr2d = np.array([[1, 2], [3, 4]])  # 二维数组\n",
    "   ```\n",
    "\n",
    "2. **`numpy.zeros()` / `numpy.ones()`**  \n",
    "   创建全 0 或全 1 数组：  \n",
    "   ```python\n",
    "   zeros = np.zeros((2, 3))  # 2行3列的全0数组\n",
    "   ones = np.ones((3, 3))   # 3x3的全1数组\n",
    "   ```\n",
    "\n",
    "3. **`numpy.arange()`**  \n",
    "   生成等差数列（类似 Python 内置 `range`，但返回数组）：  \n",
    "   ```python\n",
    "   arr = np.arange(0, 10, 2)  # [0, 2, 4, 6, 8]\n",
    "   ```\n",
    "\n",
    "4. **`numpy.linspace()`**  \n",
    "   生成指定数量的等间隔数值：  \n",
    "   ```python\n",
    "   arr = np.linspace(0, 1, 5)  # [0.  , 0.25, 0.5 , 0.75, 1.  ]\n",
    "   ```\n",
    "\n",
    "5. **`numpy.eye()`**  \n",
    "   创建单位矩阵（对角线为 1，其余为 0）：  \n",
    "   ```python\n",
    "   eye = np.eye(3)  # 3x3单位矩阵\n",
    "   ```\n",
    "\n",
    "\n",
    "### **二、数组属性与形状操作**\n",
    "1. **`shape` / `dtype` / `ndim`**  \n",
    "   数组的形状、数据类型、维度：  \n",
    "   ```python\n",
    "   arr = np.array([[1, 2], [3, 4]])\n",
    "   print(arr.shape)  # (2, 2)\n",
    "   print(arr.dtype)  # int64\n",
    "   print(arr.ndim)   # 2（二维）\n",
    "   ```\n",
    "\n",
    "2. **`reshape()`**  \n",
    "   改变数组形状（元素总数不变）：  \n",
    "   ```python\n",
    "   arr = np.arange(6).reshape(2, 3)  # 2行3列：[[0,1,2],[3,4,5]]\n",
    "   ```\n",
    "\n",
    "3. **`flatten()` / `ravel()`**  \n",
    "   将多维数组展平为一维：  \n",
    "   ```python\n",
    "   arr = np.array([[1, 2], [3, 4]])\n",
    "   print(arr.flatten())  # [1 2 3 4]\n",
    "   ```\n",
    "\n",
    "4. **`transpose()` 或 `T`**  \n",
    "   数组转置（行变列，列变行）：  \n",
    "   ```python\n",
    "   arr = np.array([[1, 2], [3, 4]])\n",
    "   print(arr.T)  # [[1 3], [2 4]]\n",
    "   ```\n",
    "\n",
    "\n",
    "### **三、数组运算函数**\n",
    "1. **element-wise 运算**  \n",
    "   直接用算术运算符（`+`, `-`, `*`, `/`）或对应函数：  \n",
    "   ```python\n",
    "   a = np.array([1, 2, 3])\n",
    "   b = np.array([4, 5, 6])\n",
    "   print(a + b)       # [5 7 9]\n",
    "   print(np.add(a, b))  # 同上\n",
    "   ```\n",
    "\n",
    "2. **矩阵乘法**  \n",
    "   `dot()` 或 `@` 运算符：  \n",
    "   ```python\n",
    "   a = np.array([[1, 2], [3, 4]])\n",
    "   b = np.array([[5, 6], [7, 8]])\n",
    "   print(a @ b)       # 矩阵乘法\n",
    "   print(np.dot(a, b))  # 同上\n",
    "   ```\n",
    "\n",
    "3. **广播（Broadcasting）**  \n",
    "   自动扩展维度不同的数组进行运算：  \n",
    "   ```python\n",
    "   a = np.array([[1, 2], [3, 4]])\n",
    "   b = np.array([10, 20])\n",
    "   print(a + b)  # [[11, 22], [13, 24]]\n",
    "   ```\n",
    "\n",
    "\n",
    "### **四、统计与聚合函数**\n",
    "1. **`sum()` / `mean()` / `median()`**  \n",
    "   求和、平均值、中位数：  \n",
    "   ```python\n",
    "   arr = np.array([1, 2, 3, 4, 5])\n",
    "   print(arr.sum())    # 15\n",
    "   print(arr.mean())   # 3.0\n",
    "   print(np.median(arr))  # 3.0\n",
    "   ```\n",
    "\n",
    "2. **`max()` / `min()` / `argmax()` / `argmin()`**  \n",
    "   最大值、最小值、最大值索引、最小值索引：  \n",
    "   ```python\n",
    "   arr = np.array([3, 1, 4, 2])\n",
    "   print(arr.max())    # 4\n",
    "   print(arr.argmax()) # 2（索引从0开始）\n",
    "   ```\n",
    "\n",
    "3. **`std()` / `var()`**  \n",
    "   标准差、方差：  \n",
    "   ```python\n",
    "   arr = np.array([1, 2, 3, 4, 5])\n",
    "   print(arr.std())    # 1.414...\n",
    "   print(arr.var())    # 2.0\n",
    "   ```\n",
    "\n",
    "\n",
    "### **五、数组索引与切片**\n",
    "1. **基础索引**  \n",
    "   类似列表，支持多维索引：  \n",
    "   ```python\n",
    "   arr = np.array([[1, 2, 3], [4, 5, 6]])\n",
    "   print(arr[0, 1])  # 2（第0行第1列）\n",
    "   ```\n",
    "\n",
    "2. **切片**  \n",
    "   提取子数组：  \n",
    "   ```python\n",
    "   arr = np.arange(10)\n",
    "   print(arr[2:5])   # [2, 3, 4]\n",
    "   print(arr[:6:2])  # [0, 2, 4]（步长为2）\n",
    "   ```\n",
    "\n",
    "3. **布尔索引**  \n",
    "   根据条件筛选元素：  \n",
    "   ```python\n",
    "   arr = np.array([1, 2, 3, 4, 5])\n",
    "   mask = arr > 3\n",
    "   print(arr[mask])  # [4, 5]\n",
    "   ```\n",
    "\n",
    "\n",
    "### **六、其他常用函数**\n",
    "1. **`numpy.concatenate()`**  \n",
    "   拼接数组：  \n",
    "   ```python\n",
    "   a = np.array([1, 2])\n",
    "   b = np.array([3, 4])\n",
    "   print(np.concatenate([a, b]))  # [1, 2, 3, 4]\n",
    "   ```\n",
    "\n",
    "2. **`numpy.random` 模块**  \n",
    "   生成随机数：  \n",
    "   ```python\n",
    "   np.random.seed(42)  # 固定随机种子\n",
    "   print(np.random.rand(2, 2))  # 2x2的[0,1)随机数\n",
    "   print(np.random.randint(0, 10, size=3))  # [3个0-10的整数]\n",
    "   ```\n",
    "\n",
    "3. **`numpy.where()`**  \n",
    "   条件判断，类似三目运算符：  \n",
    "   ```python\n",
    "   arr = np.array([1, 2, 3, 4])\n",
    "   print(np.where(arr > 2, arr, 0))  # [0, 0, 3, 4]\n",
    "   ```\n",
    "\n",
    "\n",
    "以上是 NumPy 的核心常用函数，覆盖了数组创建、操作、运算和统计等场景。"
   ]
  },
  {
   "cell_type": "markdown",
   "id": "6ccfd255",
   "metadata": {},
   "source": [
    "图像也是一种Arrary 可以通过pillow库，OpenCV库等进行读取并用numpy进行处理"
   ]
  },
  {
   "cell_type": "markdown",
   "id": "603fbb7f",
   "metadata": {},
   "source": [
    "#### Ps:本文只选了部分有代表性的实例，其余用法可以参考[官方文档](https://numpy.org/doc/)"
   ]
  }
 ],
 "metadata": {
  "kernelspec": {
   "display_name": "text1",
   "language": "python",
   "name": "python3"
  },
  "language_info": {
   "codemirror_mode": {
    "name": "ipython",
    "version": 3
   },
   "file_extension": ".py",
   "mimetype": "text/x-python",
   "name": "python",
   "nbconvert_exporter": "python",
   "pygments_lexer": "ipython3",
   "version": "3.9.23"
  }
 },
 "nbformat": 4,
 "nbformat_minor": 5
}
